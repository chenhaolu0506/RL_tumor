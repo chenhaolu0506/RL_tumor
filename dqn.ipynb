{
  "nbformat": 4,
  "nbformat_minor": 0,
  "metadata": {
    "colab": {
      "provenance": [],
      "gpuType": "T4"
    },
    "kernelspec": {
      "name": "python3",
      "display_name": "Python 3"
    },
    "language_info": {
      "name": "python"
    },
    "accelerator": "GPU"
  },
  "cells": [
    {
      "cell_type": "code",
      "source": [
        "from google.colab import drive\n",
        "drive.mount('/content/drive')"
      ],
      "metadata": {
        "colab": {
          "base_uri": "https://localhost:8080/"
        },
        "id": "7ZmwDR0aHxBt",
        "outputId": "373238b6-8380-47b1-f912-83faf0624bec"
      },
      "execution_count": null,
      "outputs": [
        {
          "output_type": "stream",
          "name": "stdout",
          "text": [
            "Mounted at /content/drive\n"
          ]
        }
      ]
    },
    {
      "cell_type": "code",
      "source": [
        "base_path = \"/content/drive/MyDrive/rl\"\n",
        "train_path = \"/content/drive/MyDrive/rl/tumor/Training/meningioma_tumor\"\n",
        "test_path = \"/content/drive/MyDrive/rl/tumor/Testing/meningioma_tumor\""
      ],
      "metadata": {
        "id": "6jKrSPPbIABU"
      },
      "execution_count": null,
      "outputs": []
    },
    {
      "cell_type": "code",
      "source": [
        "import os\n",
        "import matplotlib.pyplot as plt\n",
        "import random\n",
        "from skimage import color\n",
        "import numpy as np\n",
        "from PIL import Image\n",
        "from tqdm import tqdm\n",
        "from matplotlib import patches"
      ],
      "metadata": {
        "id": "pvOkUpz9I3dp"
      },
      "execution_count": null,
      "outputs": []
    },
    {
      "cell_type": "code",
      "source": [],
      "metadata": {
        "id": "WjNFbfMTKqMK"
      },
      "execution_count": null,
      "outputs": []
    },
    {
      "cell_type": "code",
      "source": [
        "def load_data():\n",
        "    # Load and preprocess your brain image dataset here\n",
        "    # Return X_train (input images) and y_train (lesion annotations)\n",
        "    train_indices = [2, 3, 4, 5, 6, 7, 8, 9, 20, 21, 22, 23, 24, 25, 26, 27, 28,\n",
        "                     29, 30, 37, 38, 39, 40, 50, 51, 52, 53, 54, 55, 65, 66,\n",
        "                     67, 68, 69, 70, 71, 72, 73, 74, 75, 81, 82, 83, 84, 85, 86,\n",
        "                     108, 109, 110, 111, 112, 113, 116, 117, 118, 119, 120, 121,\n",
        "                     123, 124, 125, 126]\n",
        "    test_indices = [2, 3, 5, 7, 8, 10, 11, 13, 14, 15, 16, 17, 19, 20, 21, 22, 23, 24,\n",
        "                    26, 28, 29, 30, 31, 32, 52]\n",
        "    train_imgs = []\n",
        "    test_imgs = []\n",
        "    for i in train_indices:\n",
        "      img = Image.open(f\"{train_path}/m ({i}).jpg\").resize((224, 224))\n",
        "      gray = color.rgb2gray(img)\n",
        "      train_imgs.append(gray)\n",
        "    for i in test_indices:\n",
        "      img = Image.open(f\"{test_path}/image({i}).jpg\").resize((224, 224))\n",
        "      gray = color.rgb2gray(img)\n",
        "      test_imgs.append(gray)\n",
        "    return np.array(train_imgs), np.array(test_imgs)"
      ],
      "metadata": {
        "id": "KqH9lm0fTcmr"
      },
      "execution_count": null,
      "outputs": []
    },
    {
      "cell_type": "code",
      "source": [
        "def vectorize(labels, size=16):\n",
        "  ret = []\n",
        "  for label in labels:\n",
        "    vec = np.zeros(size)\n",
        "    for block in label:\n",
        "      vec[block] = 1\n",
        "    ret.append(vec)\n",
        "  return np.array(ret)"
      ],
      "metadata": {
        "id": "Tp7lQLvySEbh"
      },
      "execution_count": null,
      "outputs": []
    },
    {
      "cell_type": "code",
      "source": [
        "X_train, X_test = load_data()"
      ],
      "metadata": {
        "id": "QlCf9kKKVjpz"
      },
      "execution_count": null,
      "outputs": []
    },
    {
      "cell_type": "code",
      "source": [
        "y_train = [[7], [7], [10, 14], [10], [10], [10], [10], [10], [5, 6], [5,6], [5,6], [5,6], [5,6], [6], [5,6],\n",
        "           [5,6], [5,6], [5,6], [5,6], [9], [9], [9], [9], [5,6], [5,6], [5,6], [5,6], [5,6], [5], [5], [5],\n",
        "           [5], [5], [5], [6], [6], [6], [6], [6], [6], [2], [2], [2], [2], [6], [2, 6], [9], [9], [9], [9],\n",
        "           [9], [9], [6], [6], [5], [5], [5], [5], [9], [9], [9], [9]]\n",
        "y_test = [[1,2,5,6], [9], [6, 10], [6, 10], [10, 11, 14, 15], [10, 11], [6, 7, 10, 11], [9, 10], [9, 13], [5], [4, 5, 8, 9],\n",
        "          [8, 9], [4, 5], [1, 2], [1, 2, 5, 6], [9, 10], [10, 11], [9, 13], [1,2], [6, 7, 10, 11], [1, 5], [1], [6], [6, 10], [8, 9]]"
      ],
      "metadata": {
        "id": "uIH0sZWAdMql"
      },
      "execution_count": null,
      "outputs": []
    },
    {
      "cell_type": "code",
      "source": [
        "y_train = vectorize(y_train)\n",
        "y_test = vectorize(y_test)"
      ],
      "metadata": {
        "id": "jb2LNYBnPdZj"
      },
      "execution_count": null,
      "outputs": []
    },
    {
      "cell_type": "code",
      "source": [
        "import numpy as np\n",
        "import tensorflow as tf\n",
        "from tensorflow.keras import layers, models\n",
        "\n",
        "class DQNAgent:\n",
        "    def __init__(self, state_shape, action_size):\n",
        "        self.state_shape = state_shape\n",
        "        self.action_size = action_size\n",
        "        self.gamma = 0.95  # discount factor\n",
        "        self.epsilon = 1.0  # exploration rate\n",
        "        self.epsilon_min = 0.01\n",
        "        self.epsilon_decay = 0.995\n",
        "        self.learning_rate = 0.001\n",
        "        self.memory = []\n",
        "        self.q_network = self._build_q_network()\n",
        "        self.target_network = self._build_q_network()\n",
        "        self.update_target_network()\n",
        "\n",
        "    def _build_q_network(self):\n",
        "        model = models.Sequential([\n",
        "            layers.Conv2D(32, (3, 3), activation='relu', input_shape=self.state_shape),\n",
        "            layers.Conv2D(64, (3, 3), activation='relu'),\n",
        "            layers.MaxPooling2D(pool_size=(2, 2)),\n",
        "            layers.Flatten(),\n",
        "            layers.Dense(128, activation='relu'),\n",
        "            layers.Dense(self.action_size)\n",
        "        ])\n",
        "        model.compile(loss='mse', optimizer=tf.keras.optimizers.Adam(lr=self.learning_rate))\n",
        "        return model\n",
        "\n",
        "    def update_target_network(self):\n",
        "        self.target_network.set_weights(self.q_network.get_weights())\n",
        "\n",
        "    def remember(self, state, action, reward, next_state, done):\n",
        "        self.memory.append((state, action, reward, next_state, done))\n",
        "\n",
        "    def act(self, state):\n",
        "        if np.random.rand() <= self.epsilon:\n",
        "            return np.random.choice(self.action_size)\n",
        "        state = np.expand_dims(state, axis=0)\n",
        "        q_values = self.q_network.predict(state, verbose=0)\n",
        "        return np.argmax(q_values[0])\n",
        "\n",
        "    def replay(self, batch_size):\n",
        "        batch = np.random.choice(len(self.memory), batch_size)\n",
        "        for idx in batch:\n",
        "            state, action, reward, next_state, done = self.memory[idx]\n",
        "            target = reward\n",
        "            state = np.expand_dims(state, axis=0)\n",
        "            next_state = np.expand_dims(next_state, axis=0)\n",
        "            if not done:\n",
        "              target = reward + self.gamma * np.amax(self.target_network.predict(next_state, verbose=0)[0])\n",
        "            target_f = self.q_network.predict(state, verbose=0)\n",
        "            target_f[0][action] = target\n",
        "            self.q_network.fit(state, target_f, epochs=1, verbose=0)\n",
        "        if self.epsilon > self.epsilon_min:\n",
        "            self.epsilon *= self.epsilon_decay"
      ],
      "metadata": {
        "id": "EuIG83ZDStgk"
      },
      "execution_count": null,
      "outputs": []
    },
    {
      "cell_type": "code",
      "source": [
        "# Assuming you have a function to divide each image into 16 regions\n",
        "def divide_image(image):\n",
        "    grids = []\n",
        "    for row in range(4):\n",
        "      for col in range(4):\n",
        "        grid = image[row * 56 : (row + 1) * 56, col * 56 : (col + 1) * 56]\n",
        "        grids.append(grid)\n",
        "    return np.array(grids)\n",
        "\n",
        "def calculate_reward(current_state, next_state, label_vec):\n",
        "    # Check if the agent stays still in a lesion state\n",
        "    lesion_presence = (label_vec[next_state] == 1)\n",
        "    if current_state == next_state and lesion_presence:\n",
        "        return 1.0\n",
        "    # Check if the agent moves to a lesion state\n",
        "    elif current_state != next_state and lesion_presence:\n",
        "        return 1.0\n",
        "    # Check if the agent moves to a non-lesion state\n",
        "    elif current_state != next_state and not lesion_presence:\n",
        "        return -0.5\n",
        "    # Check if the agent stays still in a non-lesion state\n",
        "    elif current_state == next_state and not lesion_presence:\n",
        "        return -2.0\n",
        "    else:\n",
        "        return 0.0  # No reward otherwise"
      ],
      "metadata": {
        "id": "7u6dB5hjUIUr"
      },
      "execution_count": null,
      "outputs": []
    },
    {
      "cell_type": "code",
      "source": [
        "def step(state_num, action):\n",
        "  if action == 0:\n",
        "    return state_num\n",
        "  elif action == 1:\n",
        "    if state_num > 11:\n",
        "      return state_num\n",
        "    else:\n",
        "      return state_num + 4\n",
        "  else:\n",
        "    if state_num % 4 == 3:\n",
        "      return state_num\n",
        "    else:\n",
        "      return state_num + 1"
      ],
      "metadata": {
        "id": "xe3RUJsfXwgO"
      },
      "execution_count": null,
      "outputs": []
    },
    {
      "cell_type": "code",
      "source": [
        "state_shape = (56, 56, 1)\n",
        "action_size = 3 # 0) stay still, 1) move down, 2) move right"
      ],
      "metadata": {
        "id": "sTzbwQbrUkX3"
      },
      "execution_count": null,
      "outputs": []
    },
    {
      "cell_type": "code",
      "source": [
        "# Initialize DQN agent\n",
        "agent = DQNAgent(state_shape, action_size)\n",
        "\n",
        "# Train the agent\n",
        "batch_size = 3\n",
        "episodes = 10\n",
        "for episode in range(episodes):\n",
        "    for i in range(len(X_train)):\n",
        "        # print(episode, i)\n",
        "        image = X_train[i]\n",
        "        regions = divide_image(image)\n",
        "        for state_num in range(len(regions)):\n",
        "          print(episode, i, state_num)\n",
        "          state = regions[state_num]\n",
        "          action = agent.act(state)\n",
        "          # Execute the action (e.g., move down or move right)\n",
        "          # Calculate reward based on the presence of lesion in this region\n",
        "          next_state_num = step(state_num, action)\n",
        "          next_state = regions[next_state_num]\n",
        "          reward = calculate_reward(state_num, next_state_num, y_train[i])\n",
        "          done = True if y_train[i][next_state_num] == 1 else False # Assuming single step episodes\n",
        "          agent.remember(state, action, reward, next_state, done)\n",
        "          # print(len(agent.memory))\n",
        "          if len(agent.memory) > batch_size:\n",
        "              agent.replay(batch_size)\n",
        "        agent.update_target_network()"
      ],
      "metadata": {
        "id": "iLuumblyWUoZ"
      },
      "execution_count": null,
      "outputs": []
    },
    {
      "cell_type": "code",
      "source": [
        "import pickle\n",
        "def save_agent(agent, filepath):\n",
        "    with open(filepath, 'wb') as f:\n",
        "        pickle.dump(agent, f)\n",
        "\n",
        "def load_agent(filepath):\n",
        "    with open(filepath, 'rb') as f:\n",
        "        agent = pickle.load(f)\n",
        "    return agent"
      ],
      "metadata": {
        "id": "1I5ZUzosZwnJ"
      },
      "execution_count": null,
      "outputs": []
    },
    {
      "cell_type": "code",
      "source": [
        "save_agent(agent, base_path + \"/agent\")"
      ],
      "metadata": {
        "id": "zL4cKKie0jC1"
      },
      "execution_count": null,
      "outputs": []
    },
    {
      "cell_type": "code",
      "source": [
        "max_steps = 15\n",
        "\n",
        "def test_agent(agent, img):\n",
        "    results = []\n",
        "    regions = divide_image(img)\n",
        "    state_num = 0\n",
        "    for _ in range(max_steps):\n",
        "      state = regions[state_num]\n",
        "      action = agent.act(state)\n",
        "      next_state_num = step(state_num, action)\n",
        "      results.append((state_num, action, next_state_num))\n",
        "      state_num = next_state_num\n",
        "    return results"
      ],
      "metadata": {
        "id": "bdOaZvt61aAb"
      },
      "execution_count": null,
      "outputs": []
    },
    {
      "cell_type": "code",
      "source": [
        "test_steps = []\n",
        "for img, label in zip(X_test, y_test):\n",
        "  res = test_agent(agent, img)\n",
        "  test_steps.append(res)"
      ],
      "metadata": {
        "id": "BEH0RvxuF7RJ"
      },
      "execution_count": null,
      "outputs": []
    },
    {
      "cell_type": "code",
      "source": [
        "def show_grids(img, steps):\n",
        "  grids = divide_image(img)\n",
        "  fig, ax = plt.subplots(4, 4)\n",
        "  for row in range(4):\n",
        "    for col in range(4):\n",
        "      ax[row][col].imshow(grids[row * 4 + col], cmap='gray')\n",
        "      ax[row][col].axis('off')\n",
        "\n",
        "\n",
        "  for state_num, action, next_state_num in steps:\n",
        "    if action == 0 or state_num == next_state_num:\n",
        "      continue\n",
        "    else:\n",
        "      a1, a2 = ax[state_num // 4][state_num % 4], ax[next_state_num // 4][next_state_num % 4]\n",
        "      a1_center = (np.mean(a1.get_xlim()), np.mean(a1.get_ylim()))\n",
        "      a2_center = (np.mean(a2.get_xlim()), np.mean(a2.get_ylim()))\n",
        "\n",
        "      ax1tr = a1.transData # Axis 0 -> Display\n",
        "      ax2tr = a2.transData # Axis 1 -> Display\n",
        "      figtr = fig.transFigure.inverted() # Display -> Figure\n",
        "\n",
        "      # 2. Transform arrow start point from axis 0 to figure coordinates\n",
        "      ptB = figtr.transform(ax1tr.transform(a1_center))\n",
        "      # 3. Transform arrow end point from axis 1 to figure coordinates\n",
        "      ptE = figtr.transform(ax2tr.transform(a2_center))\n",
        "      # 4. Create the patch\n",
        "      arrow = patches.FancyArrowPatch(\n",
        "          ptB, ptE, transform=fig.transFigure,  # Place arrow in figure coord system\n",
        "          fc = \"y\", arrowstyle='simple', alpha = 0.7,\n",
        "          mutation_scale = 20\n",
        "      )\n",
        "      # 5. Add patch to list of objects to draw onto the figure\n",
        "      fig.patches.append(arrow)"
      ],
      "metadata": {
        "id": "mqhA4QW53uUx"
      },
      "execution_count": null,
      "outputs": []
    },
    {
      "cell_type": "code",
      "source": [
        "test_steps = np.array(test_steps)\n",
        "np.save(base_path + \"/test_steps.npy\", test_steps)"
      ],
      "metadata": {
        "id": "nvUSC8PBHiNs"
      },
      "execution_count": null,
      "outputs": []
    },
    {
      "cell_type": "code",
      "source": [
        "test_steps = np.load(base_path + \"/test_steps.npy\")"
      ],
      "metadata": {
        "id": "tmT7LcP7gQ6q"
      },
      "execution_count": null,
      "outputs": []
    },
    {
      "cell_type": "code",
      "source": [
        "for idx in range(len(X_test)):\n",
        "  print(idx)\n",
        "  show_grids(X_test[idx], test_steps[idx])"
      ],
      "metadata": {
        "id": "ti24hg-I4C6y"
      },
      "execution_count": null,
      "outputs": []
    },
    {
      "cell_type": "code",
      "source": [
        "tf.keras.utils.plot_model(agent.q_network, to_file=base_path + \"/model.png\")"
      ],
      "metadata": {
        "id": "im6evvKFHGZR",
        "colab": {
          "base_uri": "https://localhost:8080/",
          "height": 661
        },
        "outputId": "70106a37-d83b-4667-f495-2c3ef0a9886c"
      },
      "execution_count": null,
      "outputs": [
        {
          "output_type": "execute_result",
          "data": {
            "image/png": "[encoded data removed]",
            "text/plain": [
              "<IPython.core.display.Image object>"
            ]
          },
          "metadata": {},
          "execution_count": 35
        }
      ]
    },
    {
      "cell_type": "code",
      "source": [],
      "metadata": {
        "id": "dHyGF3MZYQq_"
      },
      "execution_count": null,
      "outputs": []
    }
  ]
}